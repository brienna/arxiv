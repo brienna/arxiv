{
 "cells": [
  {
   "cell_type": "code",
   "execution_count": 4,
   "metadata": {},
   "outputs": [
    {
     "name": "stderr",
     "output_type": "stream",
     "text": [
      "/Users/Brienna/anaconda3/lib/python3.7/site-packages/ipykernel_launcher.py:9: DeprecationWarning: The SafeConfigParser class has been renamed to ConfigParser in Python 3.2. This alias will be removed in future versions. Use ConfigParser directly instead.\n",
      "  if __name__ == '__main__':\n"
     ]
    },
    {
     "name": "stdout",
     "output_type": "stream",
     "text": [
      "\n",
      "Downloading s3://arxiv/src/arXiv_src_manifest.xml to src/arXiv_src_manifest.xml...\n"
     ]
    }
   ],
   "source": [
    "import boto3, configparser, os, botocore\n",
    "\n",
    "s3resource = None\n",
    "\n",
    "def setup():\n",
    "    \"\"\"Creates S3 resource & sets configs to enable download.\"\"\"\n",
    "\n",
    "    # Securely import configs from private config file\n",
    "    configs = configparser.SafeConfigParser()\n",
    "    configs.read('config.ini')\n",
    "\n",
    "    # Create S3 resource & set configs\n",
    "    global s3resource\n",
    "    s3resource = boto3.resource(\n",
    "        's3',  # the AWS resource we want to use\n",
    "        aws_access_key_id=configs['DEFAULT']['ACCESS_KEY'],\n",
    "        aws_secret_access_key=configs['DEFAULT']['SECRET_KEY'],\n",
    "        region_name='us-east-1'  # same region arxiv bucket is in\n",
    "    )\n",
    "    \n",
    "def download_file(key):\n",
    "    \"\"\"\n",
    "    Downloads given filename from source bucket to destination directory.\n",
    "\n",
    "    Parameters\n",
    "    ----------\n",
    "    key : str\n",
    "        Name of file to download\n",
    "    \"\"\"\n",
    "\n",
    "    # Ensure src directory exists \n",
    "    if not os.path.isdir('src'):\n",
    "        os.makedirs('src')\n",
    "\n",
    "    # Download file\n",
    "    print('\\nDownloading s3://arxiv/{} to {}...'.format(key, key))\n",
    "\n",
    "    try:\n",
    "        s3resource.meta.client.download_file(\n",
    "            Bucket='arxiv', \n",
    "            Key=key,  # name of key to download from\n",
    "            Filename=key,  # path to file to download to\n",
    "            ExtraArgs={'RequestPayer':'requester'})\n",
    "    except botocore.exceptions.ClientError as e:\n",
    "        if e.response['Error']['Code'] == \"404\":\n",
    "            print('ERROR: ' + key + \" does not exist in arxiv bucket\")\n",
    "\n",
    "setup()\n",
    "download_file('src/arXiv_src_manifest.xml')"
   ]
  },
  {
   "cell_type": "code",
   "execution_count": 10,
   "metadata": {},
   "outputs": [
    {
     "name": "stdout",
     "output_type": "stream",
     "text": [
      "1052.209982638\n"
     ]
    }
   ],
   "source": [
    "from bs4 import BeautifulSoup\n",
    "\n",
    "with open('src/arXiv_src_manifest.xml') as f:\n",
    "    soup = BeautifulSoup(f, \"xml\")\n",
    "    sizes = soup.find_all('size')\n",
    "    total_size = 0\n",
    "    for size in sizes:\n",
    "        total_size += int(size.text)\n",
    "\n",
    "print(total_size/1000000000)"
   ]
  },
  {
   "cell_type": "code",
   "execution_count": null,
   "metadata": {},
   "outputs": [],
   "source": []
  }
 ],
 "metadata": {
  "kernelspec": {
   "display_name": "Python 3",
   "language": "python",
   "name": "python3"
  },
  "language_info": {
   "codemirror_mode": {
    "name": "ipython",
    "version": 3
   },
   "file_extension": ".py",
   "mimetype": "text/x-python",
   "name": "python",
   "nbconvert_exporter": "python",
   "pygments_lexer": "ipython3",
   "version": "3.7.0"
  }
 },
 "nbformat": 4,
 "nbformat_minor": 2
}
